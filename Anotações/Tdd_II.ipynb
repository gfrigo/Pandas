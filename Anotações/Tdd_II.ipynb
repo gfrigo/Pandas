{
 "cells": [
  {
   "cell_type": "markdown",
   "id": "c1bf6ba2-0e7f-4c27-b7d9-24b048e24c42",
   "metadata": {},
   "source": [
    "Colocar aqui sobre o concat, merge e append de dataframes"
   ]
  },
  {
   "cell_type": "code",
   "execution_count": null,
   "id": "b03bbf56-391f-4f1a-8729-fd64bb52386d",
   "metadata": {},
   "outputs": [],
   "source": []
  }
 ],
 "metadata": {
  "kernelspec": {
   "display_name": "Python 3 (ipykernel)",
   "language": "python",
   "name": "python3"
  },
  "language_info": {
   "codemirror_mode": {
    "name": "ipython",
    "version": 3
   },
   "file_extension": ".py",
   "mimetype": "text/x-python",
   "name": "python",
   "nbconvert_exporter": "python",
   "pygments_lexer": "ipython3",
   "version": "3.11.5"
  }
 },
 "nbformat": 4,
 "nbformat_minor": 5
}
