{
 "cells": [
  {
   "cell_type": "markdown",
   "id": "5bef8265-3cd6-48f9-a767-0ee2da95bccf",
   "metadata": {
    "jp-MarkdownHeadingCollapsed": true
   },
   "source": [
    "## Imports e Dataframes"
   ]
  },
  {
   "cell_type": "code",
   "execution_count": 69,
   "id": "0f83de53-02ba-4392-9b0a-518ce631f96d",
   "metadata": {},
   "outputs": [],
   "source": [
    "import pandas as pd\n",
    "import numpy as np\n",
    "import requests\n",
    "from IPython.display import clear_output"
   ]
  },
  {
   "cell_type": "code",
   "execution_count": 13,
   "id": "2c816ea3-3974-4b20-9db9-f626587ae233",
   "metadata": {},
   "outputs": [],
   "source": [
    "popBrasilDic = {\n",
    "    'Amazonas': 3938336,\n",
    "    'São Paulo': 44396484,\n",
    "    'Bahia': 15203934,\n",
    "    'Minas Gerais': 20869101,\n",
    "    'Roraima': 505665,\n",
    "    'Distrito Federal': 2914830\n",
    "}\n",
    "\n",
    "areaBrasilDic = {\n",
    "    'Amazonas': 1559167,\n",
    "    'São Paulo': 248219,\n",
    "    'Bahia': 564760,\n",
    "    'Minas Gerais': 586521,\n",
    "    'Roraima': 223644,\n",
    "    'Distrito Federal': 5760\n",
    "}\n",
    "\n",
    "df_estados = pd.DataFrame({'População': popBrasilDic,\n",
    "                       'Área': areaBrasilDic})\n",
    "\n",
    "df_estados['Densidade'] = df_estados['População'] / df_estados['Área']"
   ]
  },
  {
   "cell_type": "code",
   "execution_count": 53,
   "id": "ab64d253-0155-41c5-b0eb-27baeb5dbac3",
   "metadata": {},
   "outputs": [],
   "source": [
    "df_aprovacoes = pd.read_csv('https://dadosabertos.bndes.gov.br/dataset/bce5a865-e766-4a7a-b537-9499c81275b6/resource/08f7a11c-48e0-4d3e-9a75-d95641657ebf/download/aprovacoes-por-uf-aprovacoes.csv', sep=';')"
   ]
  },
  {
   "cell_type": "code",
   "execution_count": null,
   "id": "67a268c5-8c7f-4415-a84f-b662562a8305",
   "metadata": {},
   "outputs": [],
   "source": []
  },
  {
   "cell_type": "markdown",
   "id": "a5238e44-d4b2-471f-8f31-7df6e0114ea6",
   "metadata": {
    "jp-MarkdownHeadingCollapsed": true
   },
   "source": [
    "## Indexação, seleção e filtragem"
   ]
  },
  {
   "cell_type": "markdown",
   "id": "46a7ef72-e4bb-4ae4-b568-2efb8453ab53",
   "metadata": {},
   "source": [
    "|Operação                                    | Sintaxe             | Resultado    | \n",
    "|:---------:                                 |:-------------------:|:------------:|\n",
    "|Seleciona uma coluna                        | ``df[col]``         | ``Series``   |\n",
    "|Seleciona duas colunas                      | ``df[[col1, col2]]``| ``DataFrame``|\n",
    "|Seleciona uma linha usando rótulo           | ``df.loc[rotulo]``  | ``Series``   |\n",
    "|Seleciona uma linha usando inteiro          | ``df.iloc[i]``      | ``Series``   |\n",
    "|Recorta o dataframe da linha 2 a 5          | ``df[2:5]``        |``DataFrame`` |\n",
    "|Seleciona linhas usando um vetor booleano   | ``df[vetor_bool]``    | ``DataFrame``|"
   ]
  },
  {
   "cell_type": "markdown",
   "id": "54c989a7-33bf-45ad-90a3-06d6577326fa",
   "metadata": {},
   "source": [
    "#### Selecionando `uma` ou `mais` colunas "
   ]
  },
  {
   "cell_type": "code",
   "execution_count": 15,
   "id": "e399de11-e31d-47e8-8611-550cae2c0ed6",
   "metadata": {},
   "outputs": [
    {
     "data": {
      "text/plain": [
       "Amazonas              2.525923\n",
       "São Paulo           178.860136\n",
       "Bahia                26.921053\n",
       "Minas Gerais         35.581166\n",
       "Roraima               2.261026\n",
       "Distrito Federal    506.046875\n",
       "Name: Densidade, dtype: float64"
      ]
     },
     "execution_count": 15,
     "metadata": {},
     "output_type": "execute_result"
    }
   ],
   "source": [
    "df_estados['Densidade']"
   ]
  },
  {
   "cell_type": "code",
   "execution_count": 16,
   "id": "690138a3-54e8-4039-a7b0-2e0155ff9c5c",
   "metadata": {},
   "outputs": [
    {
     "data": {
      "text/plain": [
       "Amazonas              2.525923\n",
       "São Paulo           178.860136\n",
       "Bahia                26.921053\n",
       "Minas Gerais         35.581166\n",
       "Roraima               2.261026\n",
       "Distrito Federal    506.046875\n",
       "Name: Densidade, dtype: float64"
      ]
     },
     "execution_count": 16,
     "metadata": {},
     "output_type": "execute_result"
    }
   ],
   "source": [
    "df_estados.Densidade"
   ]
  },
  {
   "cell_type": "code",
   "execution_count": 18,
   "id": "de6ef5e1-4c4c-4c53-99b1-a1b4a662311b",
   "metadata": {},
   "outputs": [
    {
     "data": {
      "text/html": [
       "<div>\n",
       "<style scoped>\n",
       "    .dataframe tbody tr th:only-of-type {\n",
       "        vertical-align: middle;\n",
       "    }\n",
       "\n",
       "    .dataframe tbody tr th {\n",
       "        vertical-align: top;\n",
       "    }\n",
       "\n",
       "    .dataframe thead th {\n",
       "        text-align: right;\n",
       "    }\n",
       "</style>\n",
       "<table border=\"1\" class=\"dataframe\">\n",
       "  <thead>\n",
       "    <tr style=\"text-align: right;\">\n",
       "      <th></th>\n",
       "      <th>Densidade</th>\n",
       "      <th>Área</th>\n",
       "    </tr>\n",
       "  </thead>\n",
       "  <tbody>\n",
       "    <tr>\n",
       "      <th>Amazonas</th>\n",
       "      <td>2.525923</td>\n",
       "      <td>1559167</td>\n",
       "    </tr>\n",
       "    <tr>\n",
       "      <th>São Paulo</th>\n",
       "      <td>178.860136</td>\n",
       "      <td>248219</td>\n",
       "    </tr>\n",
       "    <tr>\n",
       "      <th>Bahia</th>\n",
       "      <td>26.921053</td>\n",
       "      <td>564760</td>\n",
       "    </tr>\n",
       "    <tr>\n",
       "      <th>Minas Gerais</th>\n",
       "      <td>35.581166</td>\n",
       "      <td>586521</td>\n",
       "    </tr>\n",
       "    <tr>\n",
       "      <th>Roraima</th>\n",
       "      <td>2.261026</td>\n",
       "      <td>223644</td>\n",
       "    </tr>\n",
       "    <tr>\n",
       "      <th>Distrito Federal</th>\n",
       "      <td>506.046875</td>\n",
       "      <td>5760</td>\n",
       "    </tr>\n",
       "  </tbody>\n",
       "</table>\n",
       "</div>"
      ],
      "text/plain": [
       "                   Densidade     Área\n",
       "Amazonas            2.525923  1559167\n",
       "São Paulo         178.860136   248219\n",
       "Bahia              26.921053   564760\n",
       "Minas Gerais       35.581166   586521\n",
       "Roraima             2.261026   223644\n",
       "Distrito Federal  506.046875     5760"
      ]
     },
     "execution_count": 18,
     "metadata": {},
     "output_type": "execute_result"
    }
   ],
   "source": [
    "df_estados[['Densidade', 'Área']] #Pode inverter a ordem também"
   ]
  },
  {
   "cell_type": "markdown",
   "id": "da39386d-bc36-48d7-a6c1-f16bbbc2fcd1",
   "metadata": {},
   "source": [
    "#### loc e iloc -> Localizar linhas"
   ]
  },
  {
   "cell_type": "code",
   "execution_count": 19,
   "id": "71052d14-fb27-43d7-8b6a-e685c11394dd",
   "metadata": {},
   "outputs": [
    {
     "data": {
      "text/plain": [
       "População    4.439648e+07\n",
       "Área         2.482190e+05\n",
       "Densidade    1.788601e+02\n",
       "Name: São Paulo, dtype: float64"
      ]
     },
     "execution_count": 19,
     "metadata": {},
     "output_type": "execute_result"
    }
   ],
   "source": [
    "df_estados.loc['São Paulo']"
   ]
  },
  {
   "cell_type": "code",
   "execution_count": 51,
   "id": "7495b026-116e-4606-839e-2a0439151687",
   "metadata": {},
   "outputs": [
    {
     "data": {
      "text/plain": [
       "Amazonas    2.525923\n",
       "Roraima     2.261026\n",
       "Name: Densidade, dtype: float64"
      ]
     },
     "execution_count": 51,
     "metadata": {},
     "output_type": "execute_result"
    }
   ],
   "source": [
    "df_estados.loc[df_estados['Densidade'] < 10, 'Densidade']"
   ]
  },
  {
   "cell_type": "code",
   "execution_count": 20,
   "id": "cd964abc-7446-4765-be67-152bb9d615e9",
   "metadata": {},
   "outputs": [
    {
     "data": {
      "text/plain": [
       "População    4.439648e+07\n",
       "Área         2.482190e+05\n",
       "Densidade    1.788601e+02\n",
       "Name: São Paulo, dtype: float64"
      ]
     },
     "execution_count": 20,
     "metadata": {},
     "output_type": "execute_result"
    }
   ],
   "source": [
    "df_estados.iloc[1]"
   ]
  },
  {
   "cell_type": "markdown",
   "id": "4a1dac65-ff98-47d4-9ff4-7ebef9418c8c",
   "metadata": {},
   "source": [
    "#### Slicing (Fatiamento)"
   ]
  },
  {
   "cell_type": "code",
   "execution_count": 22,
   "id": "a9001505-20dc-4241-b404-7e9080f93b54",
   "metadata": {},
   "outputs": [
    {
     "data": {
      "text/html": [
       "<div>\n",
       "<style scoped>\n",
       "    .dataframe tbody tr th:only-of-type {\n",
       "        vertical-align: middle;\n",
       "    }\n",
       "\n",
       "    .dataframe tbody tr th {\n",
       "        vertical-align: top;\n",
       "    }\n",
       "\n",
       "    .dataframe thead th {\n",
       "        text-align: right;\n",
       "    }\n",
       "</style>\n",
       "<table border=\"1\" class=\"dataframe\">\n",
       "  <thead>\n",
       "    <tr style=\"text-align: right;\">\n",
       "      <th></th>\n",
       "      <th>População</th>\n",
       "      <th>Área</th>\n",
       "      <th>Densidade</th>\n",
       "    </tr>\n",
       "  </thead>\n",
       "  <tbody>\n",
       "    <tr>\n",
       "      <th>Bahia</th>\n",
       "      <td>15203934</td>\n",
       "      <td>564760</td>\n",
       "      <td>26.921053</td>\n",
       "    </tr>\n",
       "    <tr>\n",
       "      <th>Minas Gerais</th>\n",
       "      <td>20869101</td>\n",
       "      <td>586521</td>\n",
       "      <td>35.581166</td>\n",
       "    </tr>\n",
       "    <tr>\n",
       "      <th>Roraima</th>\n",
       "      <td>505665</td>\n",
       "      <td>223644</td>\n",
       "      <td>2.261026</td>\n",
       "    </tr>\n",
       "  </tbody>\n",
       "</table>\n",
       "</div>"
      ],
      "text/plain": [
       "              População    Área  Densidade\n",
       "Bahia          15203934  564760  26.921053\n",
       "Minas Gerais   20869101  586521  35.581166\n",
       "Roraima          505665  223644   2.261026"
      ]
     },
     "execution_count": 22,
     "metadata": {},
     "output_type": "execute_result"
    }
   ],
   "source": [
    "df_estados['Bahia':'Roraima']"
   ]
  },
  {
   "cell_type": "code",
   "execution_count": 25,
   "id": "faf7bbde-7969-490b-8779-544e290bea0d",
   "metadata": {},
   "outputs": [
    {
     "data": {
      "text/html": [
       "<div>\n",
       "<style scoped>\n",
       "    .dataframe tbody tr th:only-of-type {\n",
       "        vertical-align: middle;\n",
       "    }\n",
       "\n",
       "    .dataframe tbody tr th {\n",
       "        vertical-align: top;\n",
       "    }\n",
       "\n",
       "    .dataframe thead th {\n",
       "        text-align: right;\n",
       "    }\n",
       "</style>\n",
       "<table border=\"1\" class=\"dataframe\">\n",
       "  <thead>\n",
       "    <tr style=\"text-align: right;\">\n",
       "      <th></th>\n",
       "      <th>População</th>\n",
       "      <th>Área</th>\n",
       "      <th>Densidade</th>\n",
       "    </tr>\n",
       "  </thead>\n",
       "  <tbody>\n",
       "    <tr>\n",
       "      <th>Bahia</th>\n",
       "      <td>15203934</td>\n",
       "      <td>564760</td>\n",
       "      <td>26.921053</td>\n",
       "    </tr>\n",
       "    <tr>\n",
       "      <th>Minas Gerais</th>\n",
       "      <td>20869101</td>\n",
       "      <td>586521</td>\n",
       "      <td>35.581166</td>\n",
       "    </tr>\n",
       "    <tr>\n",
       "      <th>Roraima</th>\n",
       "      <td>505665</td>\n",
       "      <td>223644</td>\n",
       "      <td>2.261026</td>\n",
       "    </tr>\n",
       "  </tbody>\n",
       "</table>\n",
       "</div>"
      ],
      "text/plain": [
       "              População    Área  Densidade\n",
       "Bahia          15203934  564760  26.921053\n",
       "Minas Gerais   20869101  586521  35.581166\n",
       "Roraima          505665  223644   2.261026"
      ]
     },
     "execution_count": 25,
     "metadata": {},
     "output_type": "execute_result"
    }
   ],
   "source": [
    "df_estados[2:5]"
   ]
  },
  {
   "cell_type": "markdown",
   "id": "1cd40faa-c02a-47de-9b01-3f0c7f03cebe",
   "metadata": {},
   "source": [
    "#### Filtro booleano"
   ]
  },
  {
   "cell_type": "code",
   "execution_count": 35,
   "id": "e7f2280a-0468-4247-a271-1bf9d243434a",
   "metadata": {},
   "outputs": [],
   "source": [
    "slic_bool = (df_estados['População'] > 1000000) & (df_estados['Área'] > 100000)"
   ]
  },
  {
   "cell_type": "code",
   "execution_count": 38,
   "id": "45a200cb-bcd5-4d1b-992b-da47ceac2f79",
   "metadata": {},
   "outputs": [
    {
     "data": {
      "text/plain": [
       "Amazonas             True\n",
       "São Paulo            True\n",
       "Bahia                True\n",
       "Minas Gerais         True\n",
       "Roraima             False\n",
       "Distrito Federal    False\n",
       "dtype: bool"
      ]
     },
     "execution_count": 38,
     "metadata": {},
     "output_type": "execute_result"
    }
   ],
   "source": [
    "slic_bool"
   ]
  },
  {
   "cell_type": "code",
   "execution_count": 36,
   "id": "fbe83fde-6e30-4e39-8664-faaa2015e7d3",
   "metadata": {},
   "outputs": [
    {
     "data": {
      "text/html": [
       "<div>\n",
       "<style scoped>\n",
       "    .dataframe tbody tr th:only-of-type {\n",
       "        vertical-align: middle;\n",
       "    }\n",
       "\n",
       "    .dataframe tbody tr th {\n",
       "        vertical-align: top;\n",
       "    }\n",
       "\n",
       "    .dataframe thead th {\n",
       "        text-align: right;\n",
       "    }\n",
       "</style>\n",
       "<table border=\"1\" class=\"dataframe\">\n",
       "  <thead>\n",
       "    <tr style=\"text-align: right;\">\n",
       "      <th></th>\n",
       "      <th>População</th>\n",
       "      <th>Área</th>\n",
       "      <th>Densidade</th>\n",
       "    </tr>\n",
       "  </thead>\n",
       "  <tbody>\n",
       "    <tr>\n",
       "      <th>Amazonas</th>\n",
       "      <td>3938336</td>\n",
       "      <td>1559167</td>\n",
       "      <td>2.525923</td>\n",
       "    </tr>\n",
       "    <tr>\n",
       "      <th>São Paulo</th>\n",
       "      <td>44396484</td>\n",
       "      <td>248219</td>\n",
       "      <td>178.860136</td>\n",
       "    </tr>\n",
       "    <tr>\n",
       "      <th>Bahia</th>\n",
       "      <td>15203934</td>\n",
       "      <td>564760</td>\n",
       "      <td>26.921053</td>\n",
       "    </tr>\n",
       "    <tr>\n",
       "      <th>Minas Gerais</th>\n",
       "      <td>20869101</td>\n",
       "      <td>586521</td>\n",
       "      <td>35.581166</td>\n",
       "    </tr>\n",
       "  </tbody>\n",
       "</table>\n",
       "</div>"
      ],
      "text/plain": [
       "              População     Área   Densidade\n",
       "Amazonas        3938336  1559167    2.525923\n",
       "São Paulo      44396484   248219  178.860136\n",
       "Bahia          15203934   564760   26.921053\n",
       "Minas Gerais   20869101   586521   35.581166"
      ]
     },
     "execution_count": 36,
     "metadata": {},
     "output_type": "execute_result"
    }
   ],
   "source": [
    "df_estados[slic_bool]"
   ]
  },
  {
   "cell_type": "markdown",
   "id": "ffc9c474-60e0-4e6a-8d74-c42fe2e17d14",
   "metadata": {},
   "source": [
    "#### Transpondo dataframe"
   ]
  },
  {
   "cell_type": "code",
   "execution_count": 39,
   "id": "8e949cc9-1902-4f79-8f20-049b826fd796",
   "metadata": {},
   "outputs": [
    {
     "data": {
      "text/html": [
       "<div>\n",
       "<style scoped>\n",
       "    .dataframe tbody tr th:only-of-type {\n",
       "        vertical-align: middle;\n",
       "    }\n",
       "\n",
       "    .dataframe tbody tr th {\n",
       "        vertical-align: top;\n",
       "    }\n",
       "\n",
       "    .dataframe thead th {\n",
       "        text-align: right;\n",
       "    }\n",
       "</style>\n",
       "<table border=\"1\" class=\"dataframe\">\n",
       "  <thead>\n",
       "    <tr style=\"text-align: right;\">\n",
       "      <th></th>\n",
       "      <th>Amazonas</th>\n",
       "      <th>São Paulo</th>\n",
       "      <th>Bahia</th>\n",
       "      <th>Minas Gerais</th>\n",
       "      <th>Roraima</th>\n",
       "      <th>Distrito Federal</th>\n",
       "    </tr>\n",
       "  </thead>\n",
       "  <tbody>\n",
       "    <tr>\n",
       "      <th>População</th>\n",
       "      <td>3.938336e+06</td>\n",
       "      <td>4.439648e+07</td>\n",
       "      <td>1.520393e+07</td>\n",
       "      <td>2.086910e+07</td>\n",
       "      <td>505665.000000</td>\n",
       "      <td>2.914830e+06</td>\n",
       "    </tr>\n",
       "    <tr>\n",
       "      <th>Área</th>\n",
       "      <td>1.559167e+06</td>\n",
       "      <td>2.482190e+05</td>\n",
       "      <td>5.647600e+05</td>\n",
       "      <td>5.865210e+05</td>\n",
       "      <td>223644.000000</td>\n",
       "      <td>5.760000e+03</td>\n",
       "    </tr>\n",
       "    <tr>\n",
       "      <th>Densidade</th>\n",
       "      <td>2.525923e+00</td>\n",
       "      <td>1.788601e+02</td>\n",
       "      <td>2.692105e+01</td>\n",
       "      <td>3.558117e+01</td>\n",
       "      <td>2.261026</td>\n",
       "      <td>5.060469e+02</td>\n",
       "    </tr>\n",
       "  </tbody>\n",
       "</table>\n",
       "</div>"
      ],
      "text/plain": [
       "               Amazonas     São Paulo         Bahia  Minas Gerais  \\\n",
       "População  3.938336e+06  4.439648e+07  1.520393e+07  2.086910e+07   \n",
       "Área       1.559167e+06  2.482190e+05  5.647600e+05  5.865210e+05   \n",
       "Densidade  2.525923e+00  1.788601e+02  2.692105e+01  3.558117e+01   \n",
       "\n",
       "                 Roraima  Distrito Federal  \n",
       "População  505665.000000      2.914830e+06  \n",
       "Área       223644.000000      5.760000e+03  \n",
       "Densidade       2.261026      5.060469e+02  "
      ]
     },
     "execution_count": 39,
     "metadata": {},
     "output_type": "execute_result"
    }
   ],
   "source": [
    "df_estados.T"
   ]
  },
  {
   "cell_type": "markdown",
   "id": "11f9f772-f89a-4986-9d3a-3e802a1a31be",
   "metadata": {},
   "source": [
    "#### Values"
   ]
  },
  {
   "cell_type": "markdown",
   "id": "0d70fbb7-9b42-4015-9dec-0dc9a44662c0",
   "metadata": {},
   "source": [
    "Retorna um Array Numpy"
   ]
  },
  {
   "cell_type": "code",
   "execution_count": 40,
   "id": "46ce513b-ce74-4844-a14a-3dddf620c57a",
   "metadata": {},
   "outputs": [
    {
     "data": {
      "text/plain": [
       "array([[3.93833600e+06, 1.55916700e+06, 2.52592314e+00],\n",
       "       [4.43964840e+07, 2.48219000e+05, 1.78860136e+02],\n",
       "       [1.52039340e+07, 5.64760000e+05, 2.69210532e+01],\n",
       "       [2.08691010e+07, 5.86521000e+05, 3.55811659e+01],\n",
       "       [5.05665000e+05, 2.23644000e+05, 2.26102645e+00],\n",
       "       [2.91483000e+06, 5.76000000e+03, 5.06046875e+02]])"
      ]
     },
     "execution_count": 40,
     "metadata": {},
     "output_type": "execute_result"
    }
   ],
   "source": [
    "df_estados.values"
   ]
  },
  {
   "cell_type": "markdown",
   "id": "0ff7fbaa-a83d-4249-b640-dd12978fcacc",
   "metadata": {
    "jp-MarkdownHeadingCollapsed": true
   },
   "source": [
    "## Valores únicos e contadores"
   ]
  },
  {
   "cell_type": "code",
   "execution_count": 54,
   "id": "533b7c5f-bf8d-4f3c-adf5-c87f12ff8ceb",
   "metadata": {},
   "outputs": [
    {
     "data": {
      "text/html": [
       "<div>\n",
       "<style scoped>\n",
       "    .dataframe tbody tr th:only-of-type {\n",
       "        vertical-align: middle;\n",
       "    }\n",
       "\n",
       "    .dataframe tbody tr th {\n",
       "        vertical-align: top;\n",
       "    }\n",
       "\n",
       "    .dataframe thead th {\n",
       "        text-align: right;\n",
       "    }\n",
       "</style>\n",
       "<table border=\"1\" class=\"dataframe\">\n",
       "  <thead>\n",
       "    <tr style=\"text-align: right;\">\n",
       "      <th></th>\n",
       "      <th>ano</th>\n",
       "      <th>mes</th>\n",
       "      <th>acre</th>\n",
       "      <th>amapa</th>\n",
       "      <th>amazonas</th>\n",
       "      <th>para</th>\n",
       "      <th>rondonia</th>\n",
       "      <th>roraima</th>\n",
       "      <th>tocantins</th>\n",
       "      <th>alagoas</th>\n",
       "      <th>...</th>\n",
       "      <th>minas_gerais</th>\n",
       "      <th>rio_de_janeiro</th>\n",
       "      <th>sao_paulo</th>\n",
       "      <th>parana</th>\n",
       "      <th>rio_grande_do_sul</th>\n",
       "      <th>santa_catarina</th>\n",
       "      <th>distrito_federal</th>\n",
       "      <th>goias</th>\n",
       "      <th>mato_grosso</th>\n",
       "      <th>mato_grosso_do_sul</th>\n",
       "    </tr>\n",
       "  </thead>\n",
       "  <tbody>\n",
       "    <tr>\n",
       "      <th>0</th>\n",
       "      <td>1995</td>\n",
       "      <td>1</td>\n",
       "      <td>0,41869679</td>\n",
       "      <td>0,0</td>\n",
       "      <td>2,23413839</td>\n",
       "      <td>1,84649181</td>\n",
       "      <td>1,04473767</td>\n",
       "      <td>0,0</td>\n",
       "      <td>0,43530234</td>\n",
       "      <td>3,90345966</td>\n",
       "      <td>...</td>\n",
       "      <td>24,21161259</td>\n",
       "      <td>121,27492154</td>\n",
       "      <td>160,95511135</td>\n",
       "      <td>44,50362458</td>\n",
       "      <td>37,59527024</td>\n",
       "      <td>35,30349192</td>\n",
       "      <td>1,9437482</td>\n",
       "      <td>8,34773228</td>\n",
       "      <td>16,27915326</td>\n",
       "      <td>10,26813495</td>\n",
       "    </tr>\n",
       "    <tr>\n",
       "      <th>1</th>\n",
       "      <td>1995</td>\n",
       "      <td>2</td>\n",
       "      <td>0,04578434</td>\n",
       "      <td>0,0</td>\n",
       "      <td>2,74517813</td>\n",
       "      <td>42,48085156</td>\n",
       "      <td>0,36960426</td>\n",
       "      <td>0,0</td>\n",
       "      <td>0,64214309</td>\n",
       "      <td>2,29334262</td>\n",
       "      <td>...</td>\n",
       "      <td>26,77981918</td>\n",
       "      <td>43,42129588</td>\n",
       "      <td>150,04287144</td>\n",
       "      <td>30,00488924</td>\n",
       "      <td>127,62421063</td>\n",
       "      <td>25,61771037</td>\n",
       "      <td>6,73717989</td>\n",
       "      <td>4,2283233</td>\n",
       "      <td>17,33613937</td>\n",
       "      <td>2,98495465</td>\n",
       "    </tr>\n",
       "    <tr>\n",
       "      <th>2</th>\n",
       "      <td>1995</td>\n",
       "      <td>3</td>\n",
       "      <td>0,58793111</td>\n",
       "      <td>0,0</td>\n",
       "      <td>4,25038413</td>\n",
       "      <td>7,07201709</td>\n",
       "      <td>1,88492287</td>\n",
       "      <td>0,07966938</td>\n",
       "      <td>2,90366427</td>\n",
       "      <td>22,91684798</td>\n",
       "      <td>...</td>\n",
       "      <td>40,38929874</td>\n",
       "      <td>79,26081391</td>\n",
       "      <td>195,14362719</td>\n",
       "      <td>67,2498400399999</td>\n",
       "      <td>79,49332923</td>\n",
       "      <td>61,3169039300001</td>\n",
       "      <td>4,32211726</td>\n",
       "      <td>17,28640648</td>\n",
       "      <td>40,58887985</td>\n",
       "      <td>15,20808378</td>\n",
       "    </tr>\n",
       "  </tbody>\n",
       "</table>\n",
       "<p>3 rows × 29 columns</p>\n",
       "</div>"
      ],
      "text/plain": [
       "    ano  mes        acre amapa    amazonas         para    rondonia  \\\n",
       "0  1995    1  0,41869679   0,0  2,23413839   1,84649181  1,04473767   \n",
       "1  1995    2  0,04578434   0,0  2,74517813  42,48085156  0,36960426   \n",
       "2  1995    3  0,58793111   0,0  4,25038413   7,07201709  1,88492287   \n",
       "\n",
       "      roraima   tocantins      alagoas  ... minas_gerais rio_de_janeiro  \\\n",
       "0         0,0  0,43530234   3,90345966  ...  24,21161259   121,27492154   \n",
       "1         0,0  0,64214309   2,29334262  ...  26,77981918    43,42129588   \n",
       "2  0,07966938  2,90366427  22,91684798  ...  40,38929874    79,26081391   \n",
       "\n",
       "      sao_paulo            parana rio_grande_do_sul    santa_catarina  \\\n",
       "0  160,95511135       44,50362458       37,59527024       35,30349192   \n",
       "1  150,04287144       30,00488924      127,62421063       25,61771037   \n",
       "2  195,14362719  67,2498400399999       79,49332923  61,3169039300001   \n",
       "\n",
       "  distrito_federal        goias  mato_grosso mato_grosso_do_sul  \n",
       "0        1,9437482   8,34773228  16,27915326        10,26813495  \n",
       "1       6,73717989    4,2283233  17,33613937         2,98495465  \n",
       "2       4,32211726  17,28640648  40,58887985        15,20808378  \n",
       "\n",
       "[3 rows x 29 columns]"
      ]
     },
     "execution_count": 54,
     "metadata": {},
     "output_type": "execute_result"
    }
   ],
   "source": [
    "df_aprovacoes.head(3)"
   ]
  },
  {
   "cell_type": "code",
   "execution_count": 55,
   "id": "d5a77296-507e-419b-b3ba-9c08bb56c342",
   "metadata": {},
   "outputs": [
    {
     "data": {
      "text/plain": [
       "array([1995, 1996, 1997, 1998, 1999, 2000, 2001, 2002, 2003, 2004, 2005,\n",
       "       2006, 2007, 2008, 2009, 2010, 2011, 2012, 2013, 2014, 2015, 2016,\n",
       "       2017, 2018, 2019, 2020, 2021, 2022, 2023], dtype=int64)"
      ]
     },
     "execution_count": 55,
     "metadata": {},
     "output_type": "execute_result"
    }
   ],
   "source": [
    "df_aprovacoes['ano'].unique()"
   ]
  },
  {
   "cell_type": "code",
   "execution_count": 57,
   "id": "bac9956d-fba2-4a76-8f96-b552301fe3d8",
   "metadata": {},
   "outputs": [
    {
     "data": {
      "text/plain": [
       "29"
      ]
     },
     "execution_count": 57,
     "metadata": {},
     "output_type": "execute_result"
    }
   ],
   "source": [
    "df_aprovacoes['ano'].nunique()"
   ]
  },
  {
   "cell_type": "code",
   "execution_count": 60,
   "id": "830dbd86-7351-4ace-a769-228dafbb2a3e",
   "metadata": {},
   "outputs": [
    {
     "data": {
      "text/plain": [
       "27"
      ]
     },
     "execution_count": 60,
     "metadata": {},
     "output_type": "execute_result"
    }
   ],
   "source": [
    "df_aprovacoes.loc[:,'acre':].columns.nunique()"
   ]
  },
  {
   "cell_type": "markdown",
   "id": "82a41f77-5e6d-4514-a44d-0deb42fb1622",
   "metadata": {
    "jp-MarkdownHeadingCollapsed": true
   },
   "source": [
    "## Interação WEB API"
   ]
  },
  {
   "cell_type": "markdown",
   "id": "e1154d8a-8146-400e-9281-75e50ea7f28d",
   "metadata": {},
   "source": [
    "Link API Governo: https://apidatalake.tesouro.gov.br/docs/sadipem/#/PVL%20-%20Dados%20B%C3%A1sicos/get_pvl"
   ]
  },
  {
   "cell_type": "markdown",
   "id": "e1be69bb-529e-4243-ac79-48055b12afee",
   "metadata": {},
   "source": [
    "* Para verificar a API, clique no link e em seguida clique em \"try it out\", depois, selecione os filtros que deseja;\n",
    "* O link para Estado e Município (tipo_interessado) são diferentes."
   ]
  },
  {
   "cell_type": "code",
   "execution_count": 65,
   "id": "03033f32-5079-4706-bfb7-9271e05684c7",
   "metadata": {},
   "outputs": [],
   "source": [
    "def consulta(uf:str, tipo_interessado:int):\n",
    "    if tipo_interessado == 0:\n",
    "        url = f'https://apidatalake.tesouro.gov.br/ords/sadipem/tt/pvl?uf={uf}&tipo_interessado=Munic%C3%ADpio'\n",
    "    elif  tipo_interessado == 1:\n",
    "        url = f'https://apidatalake.tesouro.gov.br/ords/sadipem/tt/pvl?uf={uf}&tipo_interessado=Estado'\n",
    "\n",
    "    r = requests.get(url)\n",
    "    if r.status_code <= 200: #Se o status HTTP for menor ou igual a 200, a requisição foi bem sucedida\n",
    "        print(f'Succes Status HTTP: {r.status_code}')\n",
    "        data_json = r.json() #Transformar de objeto para json, formato legível para python\n",
    "        df = pd.DataFrame(data_json['items'])\n",
    "        return df\n",
    "    elif r.status_code > 200:\n",
    "        return f'Error Status HTTP: {r.status_code}'"
   ]
  },
  {
   "cell_type": "code",
   "execution_count": 72,
   "id": "715f690b-c290-4528-85bb-635363597536",
   "metadata": {},
   "outputs": [],
   "source": [
    "uf_lista = {'AC':1, 'AL':2, 'AM':3, 'AP':4, 'BA':5, 'CE':6,  'DF':7, 'ES':8, 'GO':9, 'MA':10, 'MG':11, 'MS':12, \n",
    "            'MT':13, 'PA':14, 'PB':15, 'PE':16, 'PI':17, 'PR':18,  'RJ':19, 'RN':20, 'RO':21, 'RR':22, 'RS':23, 'SC':24, 'SE':25,  'SP':26,  'TO':27}\n",
    "\n",
    "for chave, valor in uf_lista.items():\n",
    "    print(chave, valor)\n",
    "escolha_uf = input('Digite o numero do UF: ')\n",
    "escolha_interesse = input('Digite: \\nMunicípio[0]\\nEstado[1]\\n')\n",
    "\n",
    "try: \n",
    "    escolha_uf = int(escolha_uf)\n",
    "    escolha_interesse = int(escolha_interesse)\n",
    "    for chave, valor in uf_lista.items():\n",
    "        if valor == escolha_uf: #Obtendo a string do UF (Ex: BA, SP...) de acordo com o número escolhido pelo usuário\n",
    "            uf = chave \n",
    "    clear_output(wait=False) #Após concluído o terminal é limpo\n",
    "    \n",
    "except Exception as exc:\n",
    "    print(f'Erro {exc}')\n"
   ]
  },
  {
   "cell_type": "code",
   "execution_count": 73,
   "id": "f7342b1e-1265-406c-aa43-a43fe2e9aace",
   "metadata": {},
   "outputs": [
    {
     "name": "stdout",
     "output_type": "stream",
     "text": [
      "Succes Status HTTP: 200\n"
     ]
    },
    {
     "data": {
      "text/html": [
       "<div>\n",
       "<style scoped>\n",
       "    .dataframe tbody tr th:only-of-type {\n",
       "        vertical-align: middle;\n",
       "    }\n",
       "\n",
       "    .dataframe tbody tr th {\n",
       "        vertical-align: top;\n",
       "    }\n",
       "\n",
       "    .dataframe thead th {\n",
       "        text-align: right;\n",
       "    }\n",
       "</style>\n",
       "<table border=\"1\" class=\"dataframe\">\n",
       "  <thead>\n",
       "    <tr style=\"text-align: right;\">\n",
       "      <th></th>\n",
       "      <th>id_pleito</th>\n",
       "      <th>tipo_interessado</th>\n",
       "      <th>interessado</th>\n",
       "      <th>cod_ibge</th>\n",
       "      <th>uf</th>\n",
       "      <th>num_pvl</th>\n",
       "      <th>status</th>\n",
       "      <th>num_processo</th>\n",
       "      <th>data_protocolo</th>\n",
       "      <th>tipo_operacao</th>\n",
       "      <th>finalidade</th>\n",
       "      <th>tipo_credor</th>\n",
       "      <th>credor</th>\n",
       "      <th>moeda</th>\n",
       "      <th>valor</th>\n",
       "      <th>pvl_assoc_divida</th>\n",
       "      <th>pvl_contradado_credor</th>\n",
       "      <th>data_status</th>\n",
       "    </tr>\n",
       "  </thead>\n",
       "  <tbody>\n",
       "    <tr>\n",
       "      <th>0</th>\n",
       "      <td>48051</td>\n",
       "      <td>Estado</td>\n",
       "      <td>São Paulo</td>\n",
       "      <td>35</td>\n",
       "      <td>SP</td>\n",
       "      <td>PVL02.002802/2021-77</td>\n",
       "      <td>Encaminhado à PGFN com manifestação técnica fa...</td>\n",
       "      <td>17944.103753/2021-51</td>\n",
       "      <td>2022-05-27T21:34:28Z</td>\n",
       "      <td>Operação contratual externa (com garantia da U...</td>\n",
       "      <td>Infraestrutura</td>\n",
       "      <td>Instituição Financeira Internacional</td>\n",
       "      <td>Corporação Andina de Fomento</td>\n",
       "      <td>Dólar dos EUA</td>\n",
       "      <td>5.500000e+08</td>\n",
       "      <td>0</td>\n",
       "      <td>0</td>\n",
       "      <td>31/05/2022</td>\n",
       "    </tr>\n",
       "    <tr>\n",
       "      <th>1</th>\n",
       "      <td>67621</td>\n",
       "      <td>Estado</td>\n",
       "      <td>São Paulo</td>\n",
       "      <td>35</td>\n",
       "      <td>SP</td>\n",
       "      <td>PVL02.004327/2023-35</td>\n",
       "      <td>Em retificação pelo interessado</td>\n",
       "      <td>17944.000023/2024-42</td>\n",
       "      <td>2023-12-28T16:06:15Z</td>\n",
       "      <td>Operação contratual interna</td>\n",
       "      <td>Aporte em PPP</td>\n",
       "      <td>Instituição Financeira Nacional</td>\n",
       "      <td>Banco Nacional de Desenvolvimento Econômico e ...</td>\n",
       "      <td>Real</td>\n",
       "      <td>1.354898e+09</td>\n",
       "      <td>0</td>\n",
       "      <td>0</td>\n",
       "      <td>22/01/2024</td>\n",
       "    </tr>\n",
       "    <tr>\n",
       "      <th>2</th>\n",
       "      <td>6536</td>\n",
       "      <td>Estado</td>\n",
       "      <td>São Paulo</td>\n",
       "      <td>35</td>\n",
       "      <td>SP</td>\n",
       "      <td>None</td>\n",
       "      <td>Deferido</td>\n",
       "      <td>17944.000375/2012-64</td>\n",
       "      <td>2012-03-16T03:00:00Z</td>\n",
       "      <td>Operação contratual interna</td>\n",
       "      <td>Infraestrutura</td>\n",
       "      <td>Instituição Financeira Nacional</td>\n",
       "      <td>Banco Nacional de Desenvolvimento Econômico e ...</td>\n",
       "      <td>Real</td>\n",
       "      <td>9.220000e+08</td>\n",
       "      <td>1</td>\n",
       "      <td>0</td>\n",
       "      <td>19/04/2012</td>\n",
       "    </tr>\n",
       "    <tr>\n",
       "      <th>3</th>\n",
       "      <td>5223</td>\n",
       "      <td>Estado</td>\n",
       "      <td>São Paulo</td>\n",
       "      <td>35</td>\n",
       "      <td>SP</td>\n",
       "      <td>None</td>\n",
       "      <td>Encaminhado à PGFN com manifestação técnica fa...</td>\n",
       "      <td>17944.000063/2010-99</td>\n",
       "      <td>2010-08-18T03:00:00Z</td>\n",
       "      <td>Operação contratual externa (com garantia da U...</td>\n",
       "      <td>Preservação e recuperação ambiental</td>\n",
       "      <td>Instituição Financeira Internacional</td>\n",
       "      <td>Banco Interamericano de Desenvolvimento</td>\n",
       "      <td>Dólar dos EUA</td>\n",
       "      <td>1.624540e+08</td>\n",
       "      <td>1</td>\n",
       "      <td>0</td>\n",
       "      <td>25/08/2010</td>\n",
       "    </tr>\n",
       "    <tr>\n",
       "      <th>4</th>\n",
       "      <td>7053</td>\n",
       "      <td>Estado</td>\n",
       "      <td>São Paulo</td>\n",
       "      <td>35</td>\n",
       "      <td>SP</td>\n",
       "      <td>None</td>\n",
       "      <td>Encaminhado à PGFN com manifestação técnica fa...</td>\n",
       "      <td>17944.000486/2013-51</td>\n",
       "      <td>2014-01-31T02:00:00Z</td>\n",
       "      <td>Operação contratual externa (com garantia da U...</td>\n",
       "      <td>Infraestrutura</td>\n",
       "      <td>Instituição Financeira Internacional</td>\n",
       "      <td>Agência Francesa de Desenvolvimento</td>\n",
       "      <td>Euro</td>\n",
       "      <td>3.000000e+08</td>\n",
       "      <td>1</td>\n",
       "      <td>0</td>\n",
       "      <td>05/03/2014</td>\n",
       "    </tr>\n",
       "  </tbody>\n",
       "</table>\n",
       "</div>"
      ],
      "text/plain": [
       "   id_pleito tipo_interessado interessado  cod_ibge  uf               num_pvl  \\\n",
       "0      48051           Estado   São Paulo        35  SP  PVL02.002802/2021-77   \n",
       "1      67621           Estado   São Paulo        35  SP  PVL02.004327/2023-35   \n",
       "2       6536           Estado   São Paulo        35  SP                  None   \n",
       "3       5223           Estado   São Paulo        35  SP                  None   \n",
       "4       7053           Estado   São Paulo        35  SP                  None   \n",
       "\n",
       "                                              status          num_processo  \\\n",
       "0  Encaminhado à PGFN com manifestação técnica fa...  17944.103753/2021-51   \n",
       "1                    Em retificação pelo interessado  17944.000023/2024-42   \n",
       "2                                           Deferido  17944.000375/2012-64   \n",
       "3  Encaminhado à PGFN com manifestação técnica fa...  17944.000063/2010-99   \n",
       "4  Encaminhado à PGFN com manifestação técnica fa...  17944.000486/2013-51   \n",
       "\n",
       "         data_protocolo                                      tipo_operacao  \\\n",
       "0  2022-05-27T21:34:28Z  Operação contratual externa (com garantia da U...   \n",
       "1  2023-12-28T16:06:15Z                        Operação contratual interna   \n",
       "2  2012-03-16T03:00:00Z                        Operação contratual interna   \n",
       "3  2010-08-18T03:00:00Z  Operação contratual externa (com garantia da U...   \n",
       "4  2014-01-31T02:00:00Z  Operação contratual externa (com garantia da U...   \n",
       "\n",
       "                            finalidade                           tipo_credor  \\\n",
       "0                       Infraestrutura  Instituição Financeira Internacional   \n",
       "1                        Aporte em PPP       Instituição Financeira Nacional   \n",
       "2                       Infraestrutura       Instituição Financeira Nacional   \n",
       "3  Preservação e recuperação ambiental  Instituição Financeira Internacional   \n",
       "4                       Infraestrutura  Instituição Financeira Internacional   \n",
       "\n",
       "                                              credor          moeda  \\\n",
       "0                       Corporação Andina de Fomento  Dólar dos EUA   \n",
       "1  Banco Nacional de Desenvolvimento Econômico e ...           Real   \n",
       "2  Banco Nacional de Desenvolvimento Econômico e ...           Real   \n",
       "3            Banco Interamericano de Desenvolvimento  Dólar dos EUA   \n",
       "4                Agência Francesa de Desenvolvimento           Euro   \n",
       "\n",
       "          valor  pvl_assoc_divida  pvl_contradado_credor data_status  \n",
       "0  5.500000e+08                 0                      0  31/05/2022  \n",
       "1  1.354898e+09                 0                      0  22/01/2024  \n",
       "2  9.220000e+08                 1                      0  19/04/2012  \n",
       "3  1.624540e+08                 1                      0  25/08/2010  \n",
       "4  3.000000e+08                 1                      0  05/03/2014  "
      ]
     },
     "execution_count": 73,
     "metadata": {},
     "output_type": "execute_result"
    }
   ],
   "source": [
    "df = consulta(uf=uf, tipo_interessado=escolha_interesse)\n",
    "df.head()"
   ]
  },
  {
   "cell_type": "markdown",
   "id": "7abd492c-961e-415f-a2ba-44bfe372bf46",
   "metadata": {
    "jp-MarkdownHeadingCollapsed": true
   },
   "source": [
    "## Salvar Dataframe em CSV"
   ]
  },
  {
   "cell_type": "markdown",
   "id": "db0899b0-d140-46c6-88f9-bdce2e3d1d7f",
   "metadata": {},
   "source": [
    "* Ele será salvo na mesma pasta deste notebook, com o nome do dataframe de sua escolha e com a extensão .csv;\n",
    "* Pode adicionar o diretório que quiser para salvar."
   ]
  },
  {
   "cell_type": "code",
   "execution_count": 74,
   "id": "2acb12aa-8bc4-417f-a264-fc36aa9aeb53",
   "metadata": {},
   "outputs": [],
   "source": [
    "# df.to_csv('./nome_estado.csv')"
   ]
  },
  {
   "cell_type": "code",
   "execution_count": null,
   "id": "a35513f9-9fea-4576-9352-cc85ef8a77f9",
   "metadata": {},
   "outputs": [],
   "source": []
  }
 ],
 "metadata": {
  "kernelspec": {
   "display_name": "Python 3 (ipykernel)",
   "language": "python",
   "name": "python3"
  },
  "language_info": {
   "codemirror_mode": {
    "name": "ipython",
    "version": 3
   },
   "file_extension": ".py",
   "mimetype": "text/x-python",
   "name": "python",
   "nbconvert_exporter": "python",
   "pygments_lexer": "ipython3",
   "version": "3.11.5"
  }
 },
 "nbformat": 4,
 "nbformat_minor": 5
}
