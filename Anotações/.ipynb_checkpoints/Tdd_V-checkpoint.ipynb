{
 "cells": [
  {
   "cell_type": "markdown",
   "id": "30708ef1-3b4e-4687-a173-e5094d983771",
   "metadata": {},
   "source": [
    "# Python e SQL"
   ]
  },
  {
   "cell_type": "markdown",
   "id": "103629e5-af98-4e08-97cb-fff3bab331bc",
   "metadata": {
    "jp-MarkdownHeadingCollapsed": true
   },
   "source": [
    "#### Import"
   ]
  },
  {
   "cell_type": "code",
   "execution_count": 1,
   "id": "e99a04e4-2629-4512-8811-008643a67234",
   "metadata": {},
   "outputs": [],
   "source": [
    "import psycopg2 as pg2\n",
    "import pandas as pd"
   ]
  },
  {
   "cell_type": "markdown",
   "id": "be78c7ac-1a98-409f-8bf8-bf54f139aaf8",
   "metadata": {
    "jp-MarkdownHeadingCollapsed": true
   },
   "source": [
    "#### Conexão e Query"
   ]
  },
  {
   "cell_type": "code",
   "execution_count": 23,
   "id": "851223e8-0460-4026-bdcf-ed597e70919f",
   "metadata": {},
   "outputs": [],
   "source": [
    "conn = pg2.connect(host='localhost', port=5432, dbname='demo', user='postgres', password='jrap2806')"
   ]
  },
  {
   "cell_type": "code",
   "execution_count": 24,
   "id": "d0ddb46e-0919-45ee-8e62-1917fc70f59c",
   "metadata": {},
   "outputs": [],
   "source": [
    "cur = conn.cursor()"
   ]
  },
  {
   "cell_type": "code",
   "execution_count": 25,
   "id": "8eb4345f-ffec-4128-aefd-347dbfbd3aeb",
   "metadata": {},
   "outputs": [],
   "source": [
    "cur.execute('select * from ticket_flights')"
   ]
  },
  {
   "cell_type": "code",
   "execution_count": 26,
   "id": "727e5b54-4bb0-4794-bce4-93e26c31d522",
   "metadata": {},
   "outputs": [],
   "source": [
    "conn.commit()"
   ]
  },
  {
   "cell_type": "code",
   "execution_count": 27,
   "id": "da292625-d170-4620-8966-96dbe92b92c8",
   "metadata": {},
   "outputs": [],
   "source": [
    "data = cur.fetchall() #fetchone() ou fetchmany()"
   ]
  },
  {
   "cell_type": "code",
   "execution_count": 28,
   "id": "7864e371-c4aa-48f2-8fc1-30b3aa3d31ac",
   "metadata": {},
   "outputs": [],
   "source": [
    "colnames = [desc.name for desc in cur.description] "
   ]
  },
  {
   "cell_type": "code",
   "execution_count": 29,
   "id": "0b95bf2b-6bc8-4a78-b9a3-b81ca9c98f4a",
   "metadata": {},
   "outputs": [
    {
     "data": {
      "text/plain": [
       "(Column(name='ticket_no', type_code=1042),\n",
       " Column(name='flight_id', type_code=23),\n",
       " Column(name='fare_conditions', type_code=1043),\n",
       " Column(name='amount', type_code=1700))"
      ]
     },
     "execution_count": 29,
     "metadata": {},
     "output_type": "execute_result"
    }
   ],
   "source": [
    "cur.description #Description é uma tupla de objetos descritivos do meu database\n",
    "#desc.name acessa o atributo \"name\" de cada objeto"
   ]
  },
  {
   "cell_type": "code",
   "execution_count": 30,
   "id": "8c01a55f-d0cc-464c-8b1d-dcdc81b80401",
   "metadata": {},
   "outputs": [
    {
     "data": {
      "text/plain": [
       "['ticket_no', 'flight_id', 'fare_conditions', 'amount']"
      ]
     },
     "execution_count": 30,
     "metadata": {},
     "output_type": "execute_result"
    }
   ],
   "source": [
    "colnames"
   ]
  },
  {
   "cell_type": "code",
   "execution_count": 31,
   "id": "17ca4509-312d-4193-99ed-c3643d503393",
   "metadata": {},
   "outputs": [],
   "source": [
    "cur.close()\n",
    "conn.close()"
   ]
  },
  {
   "cell_type": "code",
   "execution_count": 32,
   "id": "ee643fdc-ddac-448f-bdb3-f98fcffb9af0",
   "metadata": {},
   "outputs": [
    {
     "data": {
      "text/html": [
       "<div>\n",
       "<style scoped>\n",
       "    .dataframe tbody tr th:only-of-type {\n",
       "        vertical-align: middle;\n",
       "    }\n",
       "\n",
       "    .dataframe tbody tr th {\n",
       "        vertical-align: top;\n",
       "    }\n",
       "\n",
       "    .dataframe thead th {\n",
       "        text-align: right;\n",
       "    }\n",
       "</style>\n",
       "<table border=\"1\" class=\"dataframe\">\n",
       "  <thead>\n",
       "    <tr style=\"text-align: right;\">\n",
       "      <th></th>\n",
       "      <th>ticket_no</th>\n",
       "      <th>flight_id</th>\n",
       "      <th>fare_conditions</th>\n",
       "      <th>amount</th>\n",
       "    </tr>\n",
       "  </thead>\n",
       "  <tbody>\n",
       "    <tr>\n",
       "      <th>0</th>\n",
       "      <td>0005432081075</td>\n",
       "      <td>11002</td>\n",
       "      <td>Business</td>\n",
       "      <td>99800.00</td>\n",
       "    </tr>\n",
       "    <tr>\n",
       "      <th>1</th>\n",
       "      <td>0005433845814</td>\n",
       "      <td>11047</td>\n",
       "      <td>Business</td>\n",
       "      <td>99800.00</td>\n",
       "    </tr>\n",
       "    <tr>\n",
       "      <th>2</th>\n",
       "      <td>0005432003470</td>\n",
       "      <td>27484</td>\n",
       "      <td>Business</td>\n",
       "      <td>99800.00</td>\n",
       "    </tr>\n",
       "    <tr>\n",
       "      <th>3</th>\n",
       "      <td>0005433568595</td>\n",
       "      <td>23503</td>\n",
       "      <td>Business</td>\n",
       "      <td>105900.00</td>\n",
       "    </tr>\n",
       "    <tr>\n",
       "      <th>4</th>\n",
       "      <td>0005432003656</td>\n",
       "      <td>27415</td>\n",
       "      <td>Business</td>\n",
       "      <td>99800.00</td>\n",
       "    </tr>\n",
       "  </tbody>\n",
       "</table>\n",
       "</div>"
      ],
      "text/plain": [
       "       ticket_no  flight_id fare_conditions     amount\n",
       "0  0005432081075      11002        Business   99800.00\n",
       "1  0005433845814      11047        Business   99800.00\n",
       "2  0005432003470      27484        Business   99800.00\n",
       "3  0005433568595      23503        Business  105900.00\n",
       "4  0005432003656      27415        Business   99800.00"
      ]
     },
     "execution_count": 32,
     "metadata": {},
     "output_type": "execute_result"
    }
   ],
   "source": [
    "df = pd.DataFrame(data, columns=colnames)\n",
    "df.head(n=5)"
   ]
  },
  {
   "cell_type": "markdown",
   "id": "76d07879-fb75-4ebe-baf9-7f9de868778b",
   "metadata": {
    "jp-MarkdownHeadingCollapsed": true
   },
   "source": [
    "#### Junção de tabelas e agregações SQL com Python"
   ]
  },
  {
   "cell_type": "markdown",
   "id": "b7a2baf5-6338-453c-b776-e3b8a2413431",
   "metadata": {},
   "source": [
    "Você encontra essa mesma query feita no postgre na pasta de origem desta anotação com o nome \"query_postgre\""
   ]
  },
  {
   "cell_type": "code",
   "execution_count": 34,
   "id": "f173248b-8e10-4826-ab4a-309024e86902",
   "metadata": {},
   "outputs": [],
   "source": [
    "conn = pg2.connect(host='localhost', port=5432, dbname='dvdrental', user='postgres', password='jrap2806')"
   ]
  },
  {
   "cell_type": "code",
   "execution_count": 35,
   "id": "36625342-9fbb-47be-a0e2-6da17cbcfd58",
   "metadata": {},
   "outputs": [],
   "source": [
    "cur = conn.cursor()"
   ]
  },
  {
   "cell_type": "code",
   "execution_count": 36,
   "id": "789362d4-f110-468a-aa7c-6549930b6df8",
   "metadata": {},
   "outputs": [],
   "source": [
    "cur.execute('''select *\n",
    "                from film as x\n",
    "                left join film_category as y\n",
    "                \ton x.film_id = y.film_id\n",
    "                left join category as z\n",
    "                \ton z.category_id = y.category_id;''')"
   ]
  },
  {
   "cell_type": "code",
   "execution_count": 37,
   "id": "e3263aa1-082f-4477-ba6d-66a03713efcc",
   "metadata": {},
   "outputs": [],
   "source": [
    "conn.commit()"
   ]
  },
  {
   "cell_type": "code",
   "execution_count": 38,
   "id": "9a4a78ba-b603-4449-ad7f-e967d32d1581",
   "metadata": {},
   "outputs": [],
   "source": [
    "data = cur.fetchall()"
   ]
  },
  {
   "cell_type": "code",
   "execution_count": 39,
   "id": "dbe03c16-a540-48f6-8b3b-386482cc76b8",
   "metadata": {},
   "outputs": [],
   "source": [
    "colnames = [desc.name for desc in cur.description]"
   ]
  },
  {
   "cell_type": "code",
   "execution_count": 40,
   "id": "8180e268-cd92-406f-866f-02fd3a67f57d",
   "metadata": {},
   "outputs": [],
   "source": [
    "cur.close()\n",
    "conn.close()"
   ]
  },
  {
   "cell_type": "code",
   "execution_count": 42,
   "id": "f11c1915-c33f-434a-96a0-b4876747d92a",
   "metadata": {},
   "outputs": [],
   "source": [
    "df = pd.DataFrame(data, columns=colnames)"
   ]
  },
  {
   "cell_type": "code",
   "execution_count": 45,
   "id": "ad0e8484-6f01-4eaa-a6ce-bbb22e6f44d1",
   "metadata": {},
   "outputs": [
    {
     "data": {
      "text/plain": [
       "name                object\n",
       "rental_duration      int64\n",
       "rental_rate         object\n",
       "length               int64\n",
       "replacement_cost    object\n",
       "dtype: object"
      ]
     },
     "execution_count": 45,
     "metadata": {},
     "output_type": "execute_result"
    }
   ],
   "source": [
    "df[['name', 'rental_duration', 'rental_rate', 'length','replacement_cost']].dtypes"
   ]
  },
  {
   "cell_type": "code",
   "execution_count": 47,
   "id": "f200adb2-a701-4265-a617-24d1662a277d",
   "metadata": {},
   "outputs": [
    {
     "data": {
      "text/plain": [
       "rental_rate         float64\n",
       "replacement_cost    float64\n",
       "dtype: object"
      ]
     },
     "execution_count": 47,
     "metadata": {},
     "output_type": "execute_result"
    }
   ],
   "source": [
    "df[['rental_rate','replacement_cost']].astype(float).dtypes"
   ]
  },
  {
   "cell_type": "code",
   "execution_count": 48,
   "id": "5d74dc67-485f-4df6-a13f-9b0c91ab5621",
   "metadata": {},
   "outputs": [
    {
     "data": {
      "text/html": [
       "<div>\n",
       "<style scoped>\n",
       "    .dataframe tbody tr th:only-of-type {\n",
       "        vertical-align: middle;\n",
       "    }\n",
       "\n",
       "    .dataframe tbody tr th {\n",
       "        vertical-align: top;\n",
       "    }\n",
       "\n",
       "    .dataframe thead th {\n",
       "        text-align: right;\n",
       "    }\n",
       "</style>\n",
       "<table border=\"1\" class=\"dataframe\">\n",
       "  <thead>\n",
       "    <tr style=\"text-align: right;\">\n",
       "      <th></th>\n",
       "      <th>rental_duration</th>\n",
       "      <th>rental_rate</th>\n",
       "      <th>length</th>\n",
       "      <th>replacement_cost</th>\n",
       "    </tr>\n",
       "    <tr>\n",
       "      <th>name</th>\n",
       "      <th></th>\n",
       "      <th></th>\n",
       "      <th></th>\n",
       "      <th></th>\n",
       "    </tr>\n",
       "  </thead>\n",
       "  <tbody>\n",
       "    <tr>\n",
       "      <th>Action</th>\n",
       "      <td>4.953125</td>\n",
       "      <td>2.64625</td>\n",
       "      <td>111.609375</td>\n",
       "      <td>20.911875</td>\n",
       "    </tr>\n",
       "    <tr>\n",
       "      <th>Animation</th>\n",
       "      <td>4.893939</td>\n",
       "      <td>2.808182</td>\n",
       "      <td>111.015152</td>\n",
       "      <td>20.126364</td>\n",
       "    </tr>\n",
       "    <tr>\n",
       "      <th>Children</th>\n",
       "      <td>5.033333</td>\n",
       "      <td>2.89</td>\n",
       "      <td>109.800000</td>\n",
       "      <td>20.056667</td>\n",
       "    </tr>\n",
       "    <tr>\n",
       "      <th>Classics</th>\n",
       "      <td>5.070175</td>\n",
       "      <td>2.744386</td>\n",
       "      <td>111.666667</td>\n",
       "      <td>21.007544</td>\n",
       "    </tr>\n",
       "    <tr>\n",
       "      <th>Comedy</th>\n",
       "      <td>4.931034</td>\n",
       "      <td>3.162414</td>\n",
       "      <td>115.827586</td>\n",
       "      <td>19.024483</td>\n",
       "    </tr>\n",
       "    <tr>\n",
       "      <th>Documentary</th>\n",
       "      <td>4.764706</td>\n",
       "      <td>2.666471</td>\n",
       "      <td>108.750000</td>\n",
       "      <td>19.622353</td>\n",
       "    </tr>\n",
       "    <tr>\n",
       "      <th>Drama</th>\n",
       "      <td>5.080645</td>\n",
       "      <td>3.022258</td>\n",
       "      <td>120.838710</td>\n",
       "      <td>21.086774</td>\n",
       "    </tr>\n",
       "    <tr>\n",
       "      <th>Family</th>\n",
       "      <td>5.173913</td>\n",
       "      <td>2.758116</td>\n",
       "      <td>114.782609</td>\n",
       "      <td>19.72913</td>\n",
       "    </tr>\n",
       "    <tr>\n",
       "      <th>Foreign</th>\n",
       "      <td>5.109589</td>\n",
       "      <td>3.099589</td>\n",
       "      <td>121.698630</td>\n",
       "      <td>18.647534</td>\n",
       "    </tr>\n",
       "    <tr>\n",
       "      <th>Games</th>\n",
       "      <td>5.065574</td>\n",
       "      <td>3.252295</td>\n",
       "      <td>127.836066</td>\n",
       "      <td>20.285082</td>\n",
       "    </tr>\n",
       "    <tr>\n",
       "      <th>Horror</th>\n",
       "      <td>4.857143</td>\n",
       "      <td>3.025714</td>\n",
       "      <td>112.482143</td>\n",
       "      <td>19.865</td>\n",
       "    </tr>\n",
       "    <tr>\n",
       "      <th>Music</th>\n",
       "      <td>5.235294</td>\n",
       "      <td>2.950784</td>\n",
       "      <td>113.647059</td>\n",
       "      <td>19.44098</td>\n",
       "    </tr>\n",
       "    <tr>\n",
       "      <th>New</th>\n",
       "      <td>4.746032</td>\n",
       "      <td>3.116984</td>\n",
       "      <td>111.126984</td>\n",
       "      <td>19.418571</td>\n",
       "    </tr>\n",
       "    <tr>\n",
       "      <th>Sci-Fi</th>\n",
       "      <td>4.885246</td>\n",
       "      <td>3.219508</td>\n",
       "      <td>108.196721</td>\n",
       "      <td>21.153934</td>\n",
       "    </tr>\n",
       "    <tr>\n",
       "      <th>Sports</th>\n",
       "      <td>4.716216</td>\n",
       "      <td>3.125135</td>\n",
       "      <td>128.202703</td>\n",
       "      <td>20.395405</td>\n",
       "    </tr>\n",
       "    <tr>\n",
       "      <th>Travel</th>\n",
       "      <td>5.350877</td>\n",
       "      <td>3.235614</td>\n",
       "      <td>113.315789</td>\n",
       "      <td>19.025088</td>\n",
       "    </tr>\n",
       "  </tbody>\n",
       "</table>\n",
       "</div>"
      ],
      "text/plain": [
       "             rental_duration rental_rate      length replacement_cost\n",
       "name                                                                 \n",
       "Action              4.953125     2.64625  111.609375        20.911875\n",
       "Animation           4.893939    2.808182  111.015152        20.126364\n",
       "Children            5.033333        2.89  109.800000        20.056667\n",
       "Classics            5.070175    2.744386  111.666667        21.007544\n",
       "Comedy              4.931034    3.162414  115.827586        19.024483\n",
       "Documentary         4.764706    2.666471  108.750000        19.622353\n",
       "Drama               5.080645    3.022258  120.838710        21.086774\n",
       "Family              5.173913    2.758116  114.782609         19.72913\n",
       "Foreign             5.109589    3.099589  121.698630        18.647534\n",
       "Games               5.065574    3.252295  127.836066        20.285082\n",
       "Horror              4.857143    3.025714  112.482143           19.865\n",
       "Music               5.235294    2.950784  113.647059         19.44098\n",
       "New                 4.746032    3.116984  111.126984        19.418571\n",
       "Sci-Fi              4.885246    3.219508  108.196721        21.153934\n",
       "Sports              4.716216    3.125135  128.202703        20.395405\n",
       "Travel              5.350877    3.235614  113.315789        19.025088"
      ]
     },
     "execution_count": 48,
     "metadata": {},
     "output_type": "execute_result"
    }
   ],
   "source": [
    "df[['name', 'rental_duration', 'rental_rate', 'length',\n",
    "    'replacement_cost']].groupby('name').mean()"
   ]
  },
  {
   "cell_type": "code",
   "execution_count": null,
   "id": "d17a99ae-48ab-4b4c-9aad-daa5b77eec9a",
   "metadata": {},
   "outputs": [],
   "source": []
  }
 ],
 "metadata": {
  "kernelspec": {
   "display_name": "Python 3 (ipykernel)",
   "language": "python",
   "name": "python3"
  },
  "language_info": {
   "codemirror_mode": {
    "name": "ipython",
    "version": 3
   },
   "file_extension": ".py",
   "mimetype": "text/x-python",
   "name": "python",
   "nbconvert_exporter": "python",
   "pygments_lexer": "ipython3",
   "version": "3.11.5"
  }
 },
 "nbformat": 4,
 "nbformat_minor": 5
}
