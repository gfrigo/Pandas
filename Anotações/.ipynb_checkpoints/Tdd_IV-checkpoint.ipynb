{
 "cells": [
  {
   "cell_type": "markdown",
   "id": "8ede0fe4-cb05-4d50-950f-2e21a3ed286a",
   "metadata": {},
   "source": [
    "# Method Chaining"
   ]
  },
  {
   "cell_type": "markdown",
   "id": "e1d2fb35-f9d1-456a-88a9-c8066f9d8e0e",
   "metadata": {},
   "source": [
    "#### Imports e Dataframe"
   ]
  },
  {
   "cell_type": "code",
   "execution_count": 25,
   "id": "3abe8b60-16ee-4de4-93aa-cef7b2b57f35",
   "metadata": {},
   "outputs": [],
   "source": [
    "import pandas as pd\n",
    "import numpy as np"
   ]
  },
  {
   "cell_type": "code",
   "execution_count": 11,
   "id": "a849c2c6-8925-466c-9926-d7d19ced8384",
   "metadata": {},
   "outputs": [
    {
     "data": {
      "text/html": [
       "<div>\n",
       "<style scoped>\n",
       "    .dataframe tbody tr th:only-of-type {\n",
       "        vertical-align: middle;\n",
       "    }\n",
       "\n",
       "    .dataframe tbody tr th {\n",
       "        vertical-align: top;\n",
       "    }\n",
       "\n",
       "    .dataframe thead th {\n",
       "        text-align: right;\n",
       "    }\n",
       "</style>\n",
       "<table border=\"1\" class=\"dataframe\">\n",
       "  <thead>\n",
       "    <tr style=\"text-align: right;\">\n",
       "      <th></th>\n",
       "      <th>Date</th>\n",
       "      <th>Start (ET)</th>\n",
       "      <th>Visitor/Neutral</th>\n",
       "      <th>PTS</th>\n",
       "      <th>Home/Neutral</th>\n",
       "      <th>PTS.1</th>\n",
       "      <th>Unnamed: 6</th>\n",
       "      <th>Unnamed: 7</th>\n",
       "      <th>Attend.</th>\n",
       "      <th>Arena</th>\n",
       "      <th>Notes</th>\n",
       "    </tr>\n",
       "  </thead>\n",
       "  <tbody>\n",
       "    <tr>\n",
       "      <th>0</th>\n",
       "      <td>Fri Jan 1 2021</td>\n",
       "      <td>7:00p</td>\n",
       "      <td>Memphis Grizzlies</td>\n",
       "      <td>108</td>\n",
       "      <td>Charlotte Hornets</td>\n",
       "      <td>93</td>\n",
       "      <td>Box Score</td>\n",
       "      <td>NaN</td>\n",
       "      <td>0</td>\n",
       "      <td>Spectrum Center</td>\n",
       "      <td>NaN</td>\n",
       "    </tr>\n",
       "    <tr>\n",
       "      <th>1</th>\n",
       "      <td>Fri Jan 1 2021</td>\n",
       "      <td>7:00p</td>\n",
       "      <td>Miami Heat</td>\n",
       "      <td>83</td>\n",
       "      <td>Dallas Mavericks</td>\n",
       "      <td>93</td>\n",
       "      <td>Box Score</td>\n",
       "      <td>NaN</td>\n",
       "      <td>0</td>\n",
       "      <td>American Airlines Center</td>\n",
       "      <td>NaN</td>\n",
       "    </tr>\n",
       "    <tr>\n",
       "      <th>2</th>\n",
       "      <td>Fri Jan 1 2021</td>\n",
       "      <td>7:00p</td>\n",
       "      <td>Boston Celtics</td>\n",
       "      <td>93</td>\n",
       "      <td>Detroit Pistons</td>\n",
       "      <td>96</td>\n",
       "      <td>Box Score</td>\n",
       "      <td>NaN</td>\n",
       "      <td>0</td>\n",
       "      <td>Little Caesars Arena</td>\n",
       "      <td>NaN</td>\n",
       "    </tr>\n",
       "    <tr>\n",
       "      <th>3</th>\n",
       "      <td>Fri Jan 1 2021</td>\n",
       "      <td>7:30p</td>\n",
       "      <td>Atlanta Hawks</td>\n",
       "      <td>114</td>\n",
       "      <td>Brooklyn Nets</td>\n",
       "      <td>96</td>\n",
       "      <td>Box Score</td>\n",
       "      <td>NaN</td>\n",
       "      <td>0</td>\n",
       "      <td>Barclays Center</td>\n",
       "      <td>NaN</td>\n",
       "    </tr>\n",
       "    <tr>\n",
       "      <th>4</th>\n",
       "      <td>Fri Jan 1 2021</td>\n",
       "      <td>8:00p</td>\n",
       "      <td>Chicago Bulls</td>\n",
       "      <td>96</td>\n",
       "      <td>Milwaukee Bucks</td>\n",
       "      <td>126</td>\n",
       "      <td>Box Score</td>\n",
       "      <td>NaN</td>\n",
       "      <td>0</td>\n",
       "      <td>Fiserv Forum</td>\n",
       "      <td>NaN</td>\n",
       "    </tr>\n",
       "  </tbody>\n",
       "</table>\n",
       "</div>"
      ],
      "text/plain": [
       "             Date Start (ET)    Visitor/Neutral  PTS       Home/Neutral  \\\n",
       "0  Fri Jan 1 2021      7:00p  Memphis Grizzlies  108  Charlotte Hornets   \n",
       "1  Fri Jan 1 2021      7:00p         Miami Heat   83   Dallas Mavericks   \n",
       "2  Fri Jan 1 2021      7:00p     Boston Celtics   93    Detroit Pistons   \n",
       "3  Fri Jan 1 2021      7:30p      Atlanta Hawks  114      Brooklyn Nets   \n",
       "4  Fri Jan 1 2021      8:00p      Chicago Bulls   96    Milwaukee Bucks   \n",
       "\n",
       "   PTS.1 Unnamed: 6 Unnamed: 7  Attend.                     Arena  Notes  \n",
       "0     93  Box Score        NaN        0           Spectrum Center    NaN  \n",
       "1     93  Box Score        NaN        0  American Airlines Center    NaN  \n",
       "2     96  Box Score        NaN        0      Little Caesars Arena    NaN  \n",
       "3     96  Box Score        NaN        0           Barclays Center    NaN  \n",
       "4    126  Box Score        NaN        0              Fiserv Forum    NaN  "
      ]
     },
     "execution_count": 11,
     "metadata": {},
     "output_type": "execute_result"
    }
   ],
   "source": [
    "resultados = pd.read_csv('nba.csv')\n",
    "df = resultados.copy()\n",
    "resultados.head()"
   ]
  },
  {
   "cell_type": "code",
   "execution_count": 12,
   "id": "2110e921-1f7d-4b5b-b3d9-b6986b1daf70",
   "metadata": {},
   "outputs": [],
   "source": [
    "colunas = {\n",
    "    'Date': 'data',\n",
    "    'Start (ET)': 'horario',\n",
    "    'Visitor/Neutral': 'time_visitante',\n",
    "    'PTS': 'pts_visit',\n",
    "    'Home/Neutral': 'time_casa',\n",
    "    'PTS.1': 'pts_casa',\n",
    "    'Unnamed: 6': 'a',\n",
    "    'Unnamed: 7': 'b',\n",
    "    'Attend.': 'publico',\n",
    "    'Notes': 'anot'\n",
    "    }"
   ]
  },
  {
   "cell_type": "code",
   "execution_count": 26,
   "id": "a61b1657-c9ea-4900-9f70-23d0209bb1ec",
   "metadata": {},
   "outputs": [],
   "source": [
    "def det_vencedor(df):\n",
    "    df['ganhador'] = np.where(df['pts_visit'] < df['pts_casa'], 'casa', 'visitante')\n",
    "    return df"
   ]
  },
  {
   "cell_type": "markdown",
   "id": "7a72f525-8e3b-4a09-b4bd-aa189c1739a4",
   "metadata": {},
   "source": [
    "#### Antes"
   ]
  },
  {
   "cell_type": "markdown",
   "id": "c3a7e55b-7c98-403c-90da-eb6c9cd56f33",
   "metadata": {},
   "source": [
    "* Aplicar métodos do jeito abaixo, criando inúmeras variáveis torna o código ilegível, para isso se utiliza o method chaining."
   ]
  },
  {
   "cell_type": "code",
   "execution_count": 30,
   "id": "d538d891-73a5-4404-ad60-059400933638",
   "metadata": {},
   "outputs": [],
   "source": [
    "result_renomeado = resultados.rename(columns=colunas)\n",
    "result_renomeado['data'] = pd.to_datetime(result_renomeado['data'])\n",
    "result_renomeado_data = result_renomeado.set_index('data')\n",
    "result_renomeado_data_cols = result_renomeado_data.drop(['horario','a','b','publico','anot'], axis=1)\n",
    "result_renomeado_data_cols['total'] = result_renomeado_data_cols['pts_visit']+result_renomeado_data_cols['pts_casa']\n",
    "result_renomeado_data_cols_venc = result_renomeado_data_cols.apply(det_vencedor, axis=1)"
   ]
  },
  {
   "cell_type": "markdown",
   "id": "52dc107c-a76c-4fcf-b87f-94bc9e12d410",
   "metadata": {},
   "source": [
    "#### Depois: Assign() e Pipe()"
   ]
  },
  {
   "cell_type": "markdown",
   "id": "97d37cc8-a933-4823-8cd9-e496ccd9311a",
   "metadata": {},
   "source": [
    "`.assign()` faz a mesma coisa que o `=` para refatoração de colunas ou criação de novas colunas"
   ]
  },
  {
   "cell_type": "markdown",
   "id": "31286885-5d88-4206-9c04-6d891a9348e0",
   "metadata": {},
   "source": [
    "`.pipe()` aplica funções criadas por nós mesmos a um dataframe"
   ]
  },
  {
   "cell_type": "markdown",
   "id": "179b2864-3bba-4ffb-9d07-fe18c19fd102",
   "metadata": {},
   "source": [
    "`()` os parenteses servem para que possamos \"quebrar\" o código deixando-o mais legível."
   ]
  },
  {
   "cell_type": "markdown",
   "id": "8c32780e-f6c3-4371-b623-20f02906b0f6",
   "metadata": {},
   "source": [
    "`IMPORTANTE` Caso seja necessário `MUITOS` assign() preferir o apply()"
   ]
  },
  {
   "cell_type": "code",
   "execution_count": 29,
   "id": "b189cfae-2f38-4b6b-9b7e-2f64b3b2337a",
   "metadata": {},
   "outputs": [],
   "source": [
    "df = (resultados.rename(columns=colunas)\n",
    "    .assign(data = lambda x: pd.to_datetime(x.data)) #data não precisa de aspas no assign()\n",
    "    .set_index('data')\n",
    "    .drop(['horario','a','b','publico','anot'], axis=1)\n",
    "    .assign(total = lambda x: x['pts_visit']+x['pts_casa'])\n",
    "    .pipe(det_vencedor)\n",
    ")"
   ]
  },
  {
   "cell_type": "markdown",
   "id": "79706f53-54f1-425f-8efe-bb207c7f1e87",
   "metadata": {
    "jp-MarkdownHeadingCollapsed": true
   },
   "source": [
    "# For vs List Comprehenssion"
   ]
  },
  {
   "cell_type": "markdown",
   "id": "62fa4f72-f9f8-4440-90a7-a5e05835f63b",
   "metadata": {
    "jp-MarkdownHeadingCollapsed": true
   },
   "source": [
    "#### Dataframe"
   ]
  },
  {
   "cell_type": "code",
   "execution_count": 32,
   "id": "62772a95-fed3-4c90-a8f3-811f086f7bcb",
   "metadata": {},
   "outputs": [],
   "source": [
    "df_aux = pd.DataFrame({'A': np.arange(10, 101, 10), \n",
    "                       'B': np.arange(1, 11, 1)})"
   ]
  },
  {
   "cell_type": "code",
   "execution_count": 33,
   "id": "f57206f6-8933-4d10-942b-64aed50fc1f7",
   "metadata": {},
   "outputs": [
    {
     "data": {
      "text/html": [
       "<div>\n",
       "<style scoped>\n",
       "    .dataframe tbody tr th:only-of-type {\n",
       "        vertical-align: middle;\n",
       "    }\n",
       "\n",
       "    .dataframe tbody tr th {\n",
       "        vertical-align: top;\n",
       "    }\n",
       "\n",
       "    .dataframe thead th {\n",
       "        text-align: right;\n",
       "    }\n",
       "</style>\n",
       "<table border=\"1\" class=\"dataframe\">\n",
       "  <thead>\n",
       "    <tr style=\"text-align: right;\">\n",
       "      <th></th>\n",
       "      <th>A</th>\n",
       "      <th>B</th>\n",
       "    </tr>\n",
       "  </thead>\n",
       "  <tbody>\n",
       "    <tr>\n",
       "      <th>0</th>\n",
       "      <td>10</td>\n",
       "      <td>1</td>\n",
       "    </tr>\n",
       "    <tr>\n",
       "      <th>1</th>\n",
       "      <td>20</td>\n",
       "      <td>2</td>\n",
       "    </tr>\n",
       "    <tr>\n",
       "      <th>2</th>\n",
       "      <td>30</td>\n",
       "      <td>3</td>\n",
       "    </tr>\n",
       "    <tr>\n",
       "      <th>3</th>\n",
       "      <td>40</td>\n",
       "      <td>4</td>\n",
       "    </tr>\n",
       "    <tr>\n",
       "      <th>4</th>\n",
       "      <td>50</td>\n",
       "      <td>5</td>\n",
       "    </tr>\n",
       "    <tr>\n",
       "      <th>5</th>\n",
       "      <td>60</td>\n",
       "      <td>6</td>\n",
       "    </tr>\n",
       "    <tr>\n",
       "      <th>6</th>\n",
       "      <td>70</td>\n",
       "      <td>7</td>\n",
       "    </tr>\n",
       "    <tr>\n",
       "      <th>7</th>\n",
       "      <td>80</td>\n",
       "      <td>8</td>\n",
       "    </tr>\n",
       "    <tr>\n",
       "      <th>8</th>\n",
       "      <td>90</td>\n",
       "      <td>9</td>\n",
       "    </tr>\n",
       "    <tr>\n",
       "      <th>9</th>\n",
       "      <td>100</td>\n",
       "      <td>10</td>\n",
       "    </tr>\n",
       "  </tbody>\n",
       "</table>\n",
       "</div>"
      ],
      "text/plain": [
       "     A   B\n",
       "0   10   1\n",
       "1   20   2\n",
       "2   30   3\n",
       "3   40   4\n",
       "4   50   5\n",
       "5   60   6\n",
       "6   70   7\n",
       "7   80   8\n",
       "8   90   9\n",
       "9  100  10"
      ]
     },
     "execution_count": 33,
     "metadata": {},
     "output_type": "execute_result"
    }
   ],
   "source": [
    "df_aux"
   ]
  },
  {
   "cell_type": "markdown",
   "id": "86e9bff4-a4b4-44c1-afa7-7634623f8848",
   "metadata": {
    "jp-MarkdownHeadingCollapsed": true
   },
   "source": [
    "#### Usando `for` e `zip` e `if-else`"
   ]
  },
  {
   "cell_type": "code",
   "execution_count": 36,
   "id": "11dbb0da-5df7-4f1a-ae54-26588052d254",
   "metadata": {},
   "outputs": [
    {
     "name": "stdout",
     "output_type": "stream",
     "text": [
      "0\n",
      "22\n",
      "0\n",
      "44\n",
      "0\n",
      "66\n",
      "0\n",
      "88\n",
      "0\n",
      "110\n"
     ]
    }
   ],
   "source": [
    "for a,b in zip(df_aux['A'],df_aux['B']):\n",
    "    if b % 2 == 0:\n",
    "        print(a+b)\n",
    "    else:\n",
    "        print(0)"
   ]
  },
  {
   "cell_type": "markdown",
   "id": "0480d395-a8b3-4b68-b6d3-37de97adf018",
   "metadata": {
    "jp-MarkdownHeadingCollapsed": true
   },
   "source": [
    "#### *list comprehension* e `zip` e `if`\n",
    "```python\n",
    "[expr for item in lista if cond]\n",
    "```"
   ]
  },
  {
   "cell_type": "code",
   "execution_count": 35,
   "id": "e91ec782-1a7f-4c6c-b1b1-8c1282eabe46",
   "metadata": {},
   "outputs": [
    {
     "data": {
      "text/plain": [
       "[22, 44, 66, 88, 110]"
      ]
     },
     "execution_count": 35,
     "metadata": {},
     "output_type": "execute_result"
    }
   ],
   "source": [
    "[a + b for a,b in zip(df_aux['A'],df_aux['B']) if b % 2 == 0]"
   ]
  },
  {
   "cell_type": "markdown",
   "id": "ecd67e12-6fab-43dc-85be-88584ddce2ec",
   "metadata": {},
   "source": [
    "#### *list comprehension* e `zip` e `if-else`\n",
    "```python\n",
    "[expr1 if cond else expr2 for item in lista ]\n",
    "```"
   ]
  },
  {
   "cell_type": "code",
   "execution_count": 34,
   "id": "5e01ee17-a8f0-4e82-abe1-22149ea86e46",
   "metadata": {},
   "outputs": [
    {
     "data": {
      "text/plain": [
       "[0, 22, 0, 44, 0, 66, 0, 88, 0, 110]"
      ]
     },
     "execution_count": 34,
     "metadata": {},
     "output_type": "execute_result"
    }
   ],
   "source": [
    "[a + b if b % 2 == 0 else 0 for a,b in zip(df_aux['A'],df_aux['B'])]"
   ]
  },
  {
   "cell_type": "markdown",
   "id": "a8c91f6c-33cd-4fbf-bedf-59e99a4e564c",
   "metadata": {},
   "source": [
    "# Apply"
   ]
  },
  {
   "cell_type": "code",
   "execution_count": null,
   "id": "dd885f59-329e-4dbf-9389-e5d041a2cc00",
   "metadata": {},
   "outputs": [],
   "source": []
  }
 ],
 "metadata": {
  "kernelspec": {
   "display_name": "Python 3 (ipykernel)",
   "language": "python",
   "name": "python3"
  },
  "language_info": {
   "codemirror_mode": {
    "name": "ipython",
    "version": 3
   },
   "file_extension": ".py",
   "mimetype": "text/x-python",
   "name": "python",
   "nbconvert_exporter": "python",
   "pygments_lexer": "ipython3",
   "version": "3.11.5"
  }
 },
 "nbformat": 4,
 "nbformat_minor": 5
}
